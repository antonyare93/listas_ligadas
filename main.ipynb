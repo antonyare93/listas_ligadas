{
 "cells": [
  {
   "cell_type": "markdown",
   "id": "03635c9e",
   "metadata": {},
   "source": [
    "# Listas ligadas\n",
    "\n",
    "Primero vamos a crear una clase nodo\n",
    "\n",
    "## Crear nodo"
   ]
  },
  {
   "cell_type": "code",
   "execution_count": 2,
   "id": "f067d264",
   "metadata": {},
   "outputs": [],
   "source": [
    "class Nodo():\n",
    "    def __init__(self, valor1, valor2):\n",
    "        self.dato1 = valor1\n",
    "        self.dato2 = valor2\n",
    "        self.siguente = None"
   ]
  },
  {
   "cell_type": "markdown",
   "id": "6582ecbb",
   "metadata": {},
   "source": [
    "## Crear la lista"
   ]
  },
  {
   "cell_type": "code",
   "execution_count": 8,
   "id": "fd32490c",
   "metadata": {},
   "outputs": [],
   "source": [
    "class LSL:\n",
    "    def __init__(self):\n",
    "        self.inicio = None\n",
    "\n",
    "    def insertar(self, valor1, valor2):\n",
    "        nuevo_nodo = Nodo(valor1, valor2)\n",
    "\n",
    "        if not self.inicio:\n",
    "            self.inicio = nuevo_nodo\n",
    "        else:\n",
    "            nodo_actual = self.inicio\n",
    "            while nodo_actual.siguente:\n",
    "                nodo_actual = nodo_actual.siguente\n",
    "            nodo_actual.siguente = nuevo_nodo\n",
    "\n",
    "    def mostrar(self):\n",
    "        nodo_actual = self.inicio\n",
    "        while nodo_actual:\n",
    "            print(f'Dato1: {nodo_actual.dato1} // Dato2: {nodo_actual.dato2}')\n",
    "            nodo_actual = nodo_actual.siguente\n"
   ]
  },
  {
   "cell_type": "code",
   "execution_count": 9,
   "id": "bc57abdc",
   "metadata": {},
   "outputs": [
    {
     "name": "stdout",
     "output_type": "stream",
     "text": [
      "Dato1: 1 // Dato2: 2\n",
      "Dato1: 3 // Dato2: 4\n",
      "Dato1: 5 // Dato2: 6\n"
     ]
    }
   ],
   "source": [
    "lista = LSL()\n",
    "lista.insertar(1,2)\n",
    "lista.insertar(3,4)\n",
    "lista.insertar(5,6)\n",
    "lista.mostrar()"
   ]
  }
 ],
 "metadata": {
  "kernelspec": {
   "display_name": "Python 3",
   "language": "python",
   "name": "python3"
  },
  "language_info": {
   "codemirror_mode": {
    "name": "ipython",
    "version": 3
   },
   "file_extension": ".py",
   "mimetype": "text/x-python",
   "name": "python",
   "nbconvert_exporter": "python",
   "pygments_lexer": "ipython3",
   "version": "3.12.1"
  }
 },
 "nbformat": 4,
 "nbformat_minor": 5
}
